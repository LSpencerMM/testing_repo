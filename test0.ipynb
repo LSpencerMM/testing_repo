{
 "cells": [
  {
   "cell_type": "code",
   "execution_count": null,
   "id": "006e5d5d",
   "metadata": {},
   "outputs": [],
   "source": [
    "# This is a Jupyter Notebook test"
   ]
  },
  {
   "cell_type": "code",
   "execution_count": 4,
   "id": "9de75938",
   "metadata": {},
   "outputs": [],
   "source": [
    "# Installing some packages\n",
    "import numpy as np\n",
    "import pandas as pd"
   ]
  },
  {
   "cell_type": "code",
   "execution_count": 6,
   "id": "5d5ae563",
   "metadata": {},
   "outputs": [
    {
     "name": "stdout",
     "output_type": "stream",
     "text": [
      "z =  [10, 2, 1, 10, 2, 1, 10, 2, 1, 10, 2, 1, 10, 2, 1]\n",
      "z1 =  [50 10  5]\n"
     ]
    }
   ],
   "source": [
    "# Writing some code\n",
    "x = 5\n",
    "y = [10, 2, 1]\n",
    "\n",
    "z = x*y\n",
    "z1 = x*np.array(y)\n",
    "\n",
    "print('z = ', z)\n",
    "print('z1 = ', z1)"
   ]
  },
  {
   "cell_type": "code",
   "execution_count": null,
   "id": "1023db04",
   "metadata": {},
   "outputs": [],
   "source": [
    "# Making changes"
   ]
  }
 ],
 "metadata": {
  "kernelspec": {
   "display_name": "Python 3 (ipykernel)",
   "language": "python",
   "name": "python3"
  },
  "language_info": {
   "codemirror_mode": {
    "name": "ipython",
    "version": 3
   },
   "file_extension": ".py",
   "mimetype": "text/x-python",
   "name": "python",
   "nbconvert_exporter": "python",
   "pygments_lexer": "ipython3",
   "version": "3.9.10"
  }
 },
 "nbformat": 4,
 "nbformat_minor": 5
}
